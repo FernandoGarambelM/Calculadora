{
  "cells": [
    {
      "cell_type": "markdown",
      "metadata": {
        "id": "KF1bhvy-stS8"
      },
      "source": [
        "## Ejercicio 1\n",
        "\n",
        "\n",
        "Escribe una función llamada duplicar_vocales que acepte una cadena como parámetro y\n",
        "devuelva la misma cadena con las vocales duplicadas. Por ejemplo, la función llamada\n",
        "duplicar_vocales('gracias') debería convertirse en ‘graaciiaas’.\n",
        "\n"
      ]
    },
    {
      "cell_type": "markdown",
      "metadata": {
        "id": "NA02Q-pYstTG"
      },
      "source": [
        "## Solución"
      ]
    },
    {
      "cell_type": "code",
      "execution_count": 10,
      "metadata": {
        "colab": {
          "base_uri": "https://localhost:8080/",
          "height": 53
        },
        "id": "8RMyAd3dstTH",
        "outputId": "79c310ce-00e0-44af-cabf-8c733be68227"
      },
      "outputs": [
        {
          "name": "stdout",
          "output_type": "stream",
          "text": [
            "Ingrese su palabra: buenas noches\n"
          ]
        },
        {
          "output_type": "execute_result",
          "data": {
            "text/plain": [
              "'buueenaas noochees'"
            ],
            "application/vnd.google.colaboratory.intrinsic+json": {
              "type": "string"
            }
          },
          "metadata": {},
          "execution_count": 10
        }
      ],
      "source": [
        "def duplicar_vocales(str):\n",
        "  vocales = \"aeiou\"\n",
        "  i = 0\n",
        "  duplicate = \"\"\n",
        "  while i < len(str):\n",
        "    duplicate += str[i]\n",
        "    j = 0\n",
        "    while j < len(vocales):\n",
        "      if vocales[j] == str[i]:\n",
        "        duplicate += str[i]\n",
        "      j += 1\n",
        "    i += 1\n",
        "  return duplicate\n",
        "palabra = input(\"Ingrese su palabra: \")\n",
        "duplicar_vocales(palabra)"
      ]
    },
    {
      "cell_type": "markdown",
      "source": [
        "## Ejercicio 3\n",
        "\n",
        "Implementar una función que ingrese una letra y una cadena, de tal forma que busque la letra\n",
        "dentro de la cadena e indique cuántas veces está repetida.\n",
        "Ejemplo buscar(a,”mañana”)\n",
        "Debe retornar: 3 veces"
      ],
      "metadata": {
        "id": "-pt6xm7O9G-z"
      }
    },
    {
      "cell_type": "markdown",
      "source": [
        "## Solución"
      ],
      "metadata": {
        "id": "tpT6lr2N9R4q"
      }
    },
    {
      "cell_type": "code",
      "source": [
        "def count_letra(letra, str):\n",
        "  i = 0\n",
        "  count = 0\n",
        "  while i < len(str):\n",
        "    if letra == str[i]:\n",
        "      count += 1\n",
        "    i += 1\n",
        "  return count\n",
        "count_letra(\"a\",\"alameda en la calle ala\")"
      ],
      "metadata": {
        "colab": {
          "base_uri": "https://localhost:8080/"
        },
        "id": "0J2WdgGj9RZG",
        "outputId": "d04b545b-fd0e-41a2-db42-68e8bb9059de"
      },
      "execution_count": 14,
      "outputs": [
        {
          "output_type": "execute_result",
          "data": {
            "text/plain": [
              "7"
            ]
          },
          "metadata": {},
          "execution_count": 14
        }
      ]
    },
    {
      "cell_type": "markdown",
      "source": [
        "## Ejercicio 5\n",
        "Crea una función que reciba dos palabras y devuelva True si una de las palabras es la inversa de\n",
        "la otra. Ejemplo: 'pots' es el inverso de 'stop'."
      ],
      "metadata": {
        "id": "YhdxrzGB_kzf"
      }
    },
    {
      "cell_type": "markdown",
      "source": [
        "## Solución"
      ],
      "metadata": {
        "id": "Tk-VaX55AI9y"
      }
    },
    {
      "cell_type": "code",
      "source": [
        "def isInversa(str1, str2):\n",
        "  if len(str1) != len(str2):\n",
        "    return False\n",
        "  i = 0\n",
        "  while(i < len(str1) / 2):\n",
        "    if str1[i] != str2[len(str1) - 1 - i]:\n",
        "      return False\n",
        "    i += 1\n",
        "  return True\n",
        "isInversa(\"pots\", \"stop\")"
      ],
      "metadata": {
        "colab": {
          "base_uri": "https://localhost:8080/"
        },
        "id": "RcFeIMy0ALyh",
        "outputId": "e4a580e8-0617-4a05-a919-ae46e85b83c9"
      },
      "execution_count": 25,
      "outputs": [
        {
          "output_type": "execute_result",
          "data": {
            "text/plain": [
              "True"
            ]
          },
          "metadata": {},
          "execution_count": 25
        }
      ]
    }
  ],
  "metadata": {
    "kernelspec": {
      "display_name": "Python 3",
      "language": "python",
      "name": "python3"
    },
    "language_info": {
      "codemirror_mode": {
        "name": "ipython",
        "version": 3
      },
      "file_extension": ".py",
      "mimetype": "text/x-python",
      "name": "python",
      "nbconvert_exporter": "python",
      "pygments_lexer": "ipython3",
      "version": "3.7.1"
    },
    "colab": {
      "provenance": []
    }
  },
  "nbformat": 4,
  "nbformat_minor": 0
}